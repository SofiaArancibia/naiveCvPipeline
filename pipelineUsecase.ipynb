{
 "cells": [
  {
   "cell_type": "code",
   "execution_count": 33,
   "metadata": {},
   "outputs": [],
   "source": [
    "import imgProcLib as ipl\n",
    "import glob\n",
    "import cv2"
   ]
  },
  {
   "cell_type": "markdown",
   "metadata": {},
   "source": [
    "# Pipeline usecase"
   ]
  },
  {
   "cell_type": "code",
   "execution_count": 34,
   "metadata": {},
   "outputs": [
    {
     "ename": "SystemError",
     "evalue": "new style getargs format but argument is not a tuple",
     "output_type": "error",
     "traceback": [
      "\u001b[0;31m---------------------------------------------------------------------------\u001b[0m",
      "\u001b[0;31mSystemError\u001b[0m                               Traceback (most recent call last)",
      "\u001b[0;32m<ipython-input-34-f8c7c236ca18>\u001b[0m in \u001b[0;36m<module>\u001b[0;34m\u001b[0m\n\u001b[1;32m     14\u001b[0m \u001b[0;34m\u001b[0m\u001b[0m\n\u001b[1;32m     15\u001b[0m     \u001b[0;32mif\u001b[0m \u001b[0;32mnot\u001b[0m \u001b[0mcheck\u001b[0m\u001b[0;34m:\u001b[0m \u001b[0;31m# Resize if required\u001b[0m\u001b[0;34m\u001b[0m\u001b[0;34m\u001b[0m\u001b[0m\n\u001b[0;32m---> 16\u001b[0;31m         \u001b[0mimg\u001b[0m \u001b[0;34m=\u001b[0m \u001b[0mipl\u001b[0m\u001b[0;34m.\u001b[0m\u001b[0mresize_image\u001b[0m\u001b[0;34m(\u001b[0m\u001b[0mimg\u001b[0m\u001b[0;34m,\u001b[0m \u001b[0mimg_size\u001b[0m\u001b[0;34m)\u001b[0m\u001b[0;34m\u001b[0m\u001b[0;34m\u001b[0m\u001b[0m\n\u001b[0m\u001b[1;32m     17\u001b[0m \u001b[0;34m\u001b[0m\u001b[0m\n\u001b[1;32m     18\u001b[0m     \u001b[0;31m# Crop the image down to the central 270x270x3 region\u001b[0m\u001b[0;34m\u001b[0m\u001b[0;34m\u001b[0m\u001b[0;34m\u001b[0m\u001b[0m\n",
      "\u001b[0;32m~/Desktop/MyRepositories/DAZN_assesment/cvPipeline/imgProcLib.py\u001b[0m in \u001b[0;36mresize_image\u001b[0;34m(img, size)\u001b[0m\n\u001b[1;32m     42\u001b[0m     \u001b[0moutput\u001b[0m\u001b[0;34m:\u001b[0m\u001b[0;34m\u001b[0m\u001b[0;34m\u001b[0m\u001b[0m\n\u001b[1;32m     43\u001b[0m         \u001b[0;34m-\u001b[0m \u001b[0mcheck\u001b[0m\u001b[0;34m:\u001b[0m \u001b[0mboolean\u001b[0m\u001b[0;34m\u001b[0m\u001b[0;34m\u001b[0m\u001b[0m\n\u001b[0;32m---> 44\u001b[0;31m     '''\n\u001b[0m\u001b[1;32m     45\u001b[0m     \u001b[0;31m#TODO: check if 'size' has 3 elements\u001b[0m\u001b[0;34m\u001b[0m\u001b[0;34m\u001b[0m\u001b[0;34m\u001b[0m\u001b[0m\n\u001b[1;32m     46\u001b[0m     \u001b[0;34m(\u001b[0m\u001b[0mheight\u001b[0m\u001b[0;34m,\u001b[0m \u001b[0mwidth\u001b[0m\u001b[0;34m,\u001b[0m \u001b[0mdepth\u001b[0m\u001b[0;34m)\u001b[0m \u001b[0;34m=\u001b[0m \u001b[0mimg\u001b[0m\u001b[0;34m.\u001b[0m\u001b[0mshape\u001b[0m\u001b[0;34m\u001b[0m\u001b[0;34m\u001b[0m\u001b[0m\n",
      "\u001b[0;31mSystemError\u001b[0m: new style getargs format but argument is not a tuple"
     ]
    }
   ],
   "source": [
    "images_path = \"ML Engineer task/ML Engineer task/sample_frames/sample_frames/*\"\n",
    "files = glob.glob(images_path)\n",
    "\n",
    "img_size = [480, 270, 3]\n",
    "roi_size = [270, 270, 3]\n",
    "sample_size = [80, 80, 3]\n",
    "\n",
    "samples = dict()\n",
    "counter = 0\n",
    "for file in files:\n",
    "    img = cv2.imread(file) #TODO: check if 'file' is an image\n",
    "    \n",
    "    check = ipl.check_image_size(img, img_size) # Ensure each image is 480 x 270x 3\n",
    "    \n",
    "    if not check: # Resize if required\n",
    "        img = ipl.resize_image(img, img_size) \n",
    "    \n",
    "    # Crop the image down to the central 270x270x3 region\n",
    "    img = ipl.crop_image(img, roi_size, _, center=True)\n",
    "    \n",
    "    # Randomly extract 3, 80 x 80 x 3 samples that do not overlap\n",
    "    samples['img{}_samples'.format(counter)] = ipl.extract_samples(img, sample_size, overlap=False, num_samples=3)\n",
    "    counter += 1\n",
    "    \n",
    "# Allow for shuffling & separation into training & test sets. \n",
    "# The proportions of which should be able to be defined by the end user. \n",
    "# Samples from the same image should not appear in both training and test sets.\n",
    "\n",
    "train, test  = ipl.train_test_split(samples, test = 0.3, shuffle = True)    "
   ]
  },
  {
   "cell_type": "code",
   "execution_count": null,
   "metadata": {},
   "outputs": [],
   "source": []
  }
 ],
 "metadata": {
  "kernelspec": {
   "display_name": "Python 3",
   "language": "python",
   "name": "python3"
  },
  "language_info": {
   "codemirror_mode": {
    "name": "ipython",
    "version": 3
   },
   "file_extension": ".py",
   "mimetype": "text/x-python",
   "name": "python",
   "nbconvert_exporter": "python",
   "pygments_lexer": "ipython3",
   "version": "3.6.8"
  }
 },
 "nbformat": 4,
 "nbformat_minor": 4
}
