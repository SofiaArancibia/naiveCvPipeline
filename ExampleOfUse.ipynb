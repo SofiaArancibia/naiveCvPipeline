{
 "cells": [
  {
   "cell_type": "markdown",
   "metadata": {},
   "source": [
    "# Pipeline example of use"
   ]
  },
  {
   "cell_type": "code",
   "execution_count": null,
   "metadata": {},
   "outputs": [],
   "source": [
    "from pathlib import Path\n",
    "import cv2\n",
    "import numpy as np\n",
    "from random import randint\n",
    "from random import shuffle\n",
    "import math\n",
    "import time"
   ]
  },
  {
   "cell_type": "code",
   "execution_count": null,
   "metadata": {},
   "outputs": [],
   "source": [
    "import glob\n",
    "import matplotlib.pyplot as plt\n",
    "import imgProcLib as ipl\n",
    "\n",
    "# Original Folder\n",
    "images_path = \"ML Engineer task/ML Engineer task/sample_frames/sample_frames/*\"\n",
    "# Empty Folder\n",
    "#images_path = \"ML Engineer task/ML Engineer task/sample_frames/Empty/*\"\n",
    "# Folder with non-image files\n",
    "#images_path = \"ML Engineer task/ML Engineer task/sample_frames/Photos/*\"\n",
    "# Non existent folder\n",
    "#images_path = \"ML Engineer task/ML Engineer task/sample_frames/NonExistent/*\"\n",
    "\n",
    "## Stress tests:\n",
    "# Folder with 2x original images quantity\n",
    "#images_path = \"ML Engineer task/ML Engineer task/sample_frames/Double/*\"\n",
    "# Folder with 4x original images quantity\n",
    "#images_path = \"ML Engineer task/ML Engineer task/sample_frames/FourTimes/*\"\n",
    "\n",
    "files = glob.glob(images_path)\n",
    "\n",
    "img_size = [270, 480, 3]\n",
    "roi_size = [270, 270, 3]\n",
    "sample_size = [80, 80, 3]\n",
    "\n",
    "samples_dict = dict()\n",
    "tmp_samples_folder = \"tmp_samples_folder\" # Existent\n",
    "\n",
    "counter = 0\n",
    "\n",
    "start_time = time.time()\n",
    "for file in files:\n",
    "    print(file)\n",
    "    samples = list()\n",
    "    print(\"Reading image: {}\".format(file))\n",
    "    img = ipl.read_image(file)\n",
    "    \n",
    "    #If the file read is not an image, continue with the other ones\n",
    "    if not (type(img) is np.ndarray):\n",
    "        print(\"The file {} is probably not an image. Ignoring...\".format(file))\n",
    "        continue\n",
    "    \n",
    "    print(\"Checking image size...\")\n",
    "    check = ipl.check_image_size(img, img_size) # Ensure each image is 480 x 270 x 3\n",
    "    \n",
    "    if not check: # Resize if required\n",
    "        print(\"Resizing required...\")\n",
    "        print(\"Resizing...\")\n",
    "        img = ipl.resize_image(img, tuple(img_size)) \n",
    "    \n",
    "    # Crop the image down to the central 270x270x3 region\n",
    "    print(\"Cropping image...\")\n",
    "    img = ipl.crop_image(img, roi_size, _, center=True)\n",
    "    \n",
    "    # Randomly extract 3, 80 x 80 x 3 samples that do not overlap\n",
    "    print(\"Extracting samples...\")\n",
    "    samples = ipl.extract_samples(img, sample_size, overlap=False, num_samples=3)\n",
    "    samples_dict['img{}_samples'.format(counter)] = samples\n",
    "    # Save samples\n",
    "    ipl.save_samples(tmp_samples_folder, \"img{}\".format(counter) , samples)\n",
    "    counter += 1\n",
    "print(\"--- %s seconds ---\" % (time.time() - start_time))"
   ]
  },
  {
   "cell_type": "code",
   "execution_count": null,
   "metadata": {},
   "outputs": [],
   "source": [
    "# Allow for shuffling & separation into training & test sets. \n",
    "# The proportions of which should be able to be defined by the end user. \n",
    "# Samples from the same image should not appear in both training and test sets.\n",
    "train, test  = ipl.train_test_split(samples_dict, test = 0.3, allow_shuffle = True)"
   ]
  },
  {
   "cell_type": "code",
   "execution_count": null,
   "metadata": {},
   "outputs": [],
   "source": [
    "len(train)"
   ]
  },
  {
   "cell_type": "code",
   "execution_count": null,
   "metadata": {},
   "outputs": [],
   "source": [
    "len(test)"
   ]
  }
 ],
 "metadata": {
  "kernelspec": {
   "display_name": "Python 3",
   "language": "python",
   "name": "python3"
  },
  "language_info": {
   "codemirror_mode": {
    "name": "ipython",
    "version": 3
   },
   "file_extension": ".py",
   "mimetype": "text/x-python",
   "name": "python",
   "nbconvert_exporter": "python",
   "pygments_lexer": "ipython3",
   "version": "3.6.8"
  }
 },
 "nbformat": 4,
 "nbformat_minor": 4
}
